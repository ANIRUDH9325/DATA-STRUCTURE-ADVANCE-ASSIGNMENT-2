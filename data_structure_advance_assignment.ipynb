{
  "nbformat": 4,
  "nbformat_minor": 0,
  "metadata": {
    "colab": {
      "provenance": [],
      "authorship_tag": "ABX9TyPc3baUKNLCkKqjdwD5FrmL",
      "include_colab_link": true
    },
    "kernelspec": {
      "name": "python3",
      "display_name": "Python 3"
    },
    "language_info": {
      "name": "python"
    }
  },
  "cells": [
    {
      "cell_type": "markdown",
      "metadata": {
        "id": "view-in-github",
        "colab_type": "text"
      },
      "source": [
        "<a href=\"https://colab.research.google.com/github/ANIRUDH9325/DATA-STRUCTURE-ADVANCE-ASSIGNMENT-2/blob/main/data_structure_advance_assignment.ipynb\" target=\"_parent\"><img src=\"https://colab.research.google.com/assets/colab-badge.svg\" alt=\"Open In Colab\"/></a>"
      ]
    },
    {
      "cell_type": "code",
      "execution_count": null,
      "metadata": {
        "id": "TLuCCchhD3yN",
        "colab": {
          "base_uri": "https://localhost:8080/"
        },
        "outputId": "ae2a7649-3978-4fa2-8e6b-605f20722fbf"
      },
      "outputs": [
        {
          "output_type": "stream",
          "name": "stdout",
          "text": [
            "dlrow olleh\n"
          ]
        }
      ],
      "source": [
        "#1)write a code to reverse a string\n",
        "input_string = \"hello world\"\n",
        "reversed_string = input_string[::-1]\n",
        "print(reversed_string)"
      ]
    },
    {
      "cell_type": "code",
      "source": [
        "#2)write a code to count number of vowels in string\n",
        "input_string = \"hello world\"\n",
        "vowels = \"aeiouAEIOU\"\n",
        "count = 0\n",
        "for char in input_string:\n",
        "    if char in vowels:\n",
        "        count += 1\n",
        "print(count)"
      ],
      "metadata": {
        "id": "R9bHzmWsD48Y",
        "outputId": "359d717a-0309-41eb-9da4-f917f851dde2",
        "colab": {
          "base_uri": "https://localhost:8080/"
        }
      },
      "execution_count": null,
      "outputs": [
        {
          "output_type": "stream",
          "name": "stdout",
          "text": [
            "3\n"
          ]
        }
      ]
    },
    {
      "cell_type": "code",
      "source": [
        "#3)write a code to check if a given string is a palindrome or not\n",
        "input_string=\"a man,a plan,a canal,panama\"\n",
        "if is_palindrome(input_string):\n",
        "  print(f'\"{input_string}\" is a palindrome')\n",
        "else:\n",
        "  print(f'\"{input_string}\" is not a palindrome"
      ],
      "metadata": {
        "id": "aQWf9SJ_D6YU",
        "colab": {
          "base_uri": "https://localhost:8080/",
          "height": 106
        },
        "outputId": "2718caf8-a373-4b4e-f59e-f9c60b230370"
      },
      "execution_count": null,
      "outputs": [
        {
          "output_type": "error",
          "ename": "SyntaxError",
          "evalue": "unterminated string literal (detected at line 6) (<ipython-input-3-e8fc15351d09>, line 6)",
          "traceback": [
            "\u001b[0;36m  File \u001b[0;32m\"<ipython-input-3-e8fc15351d09>\"\u001b[0;36m, line \u001b[0;32m6\u001b[0m\n\u001b[0;31m    print(f'\"{input_string}\" is not a palindrome\u001b[0m\n\u001b[0m          ^\u001b[0m\n\u001b[0;31mSyntaxError\u001b[0m\u001b[0;31m:\u001b[0m unterminated string literal (detected at line 6)\n"
          ]
        }
      ]
    },
    {
      "cell_type": "code",
      "source": [
        "#4)write a code to check if two given strings are anagrams of each other\n",
        "def is_anagram(str1, str2):\n",
        "  str1 = str1.replace(\" \", \"\").lower()\n",
        "  str2 = str2.replace(\" \", \"\").lower()\n",
        "  return sorted(str1) == sorted(str2)"
      ],
      "metadata": {
        "id": "IjcGkSpzhXiS"
      },
      "execution_count": null,
      "outputs": []
    },
    {
      "cell_type": "code",
      "source": [
        "#5)write a code to find all occurences of a given sub string within another string\n",
        "def find_all_occurrences(string, substring):\n",
        "  start=0\n",
        "  occurrences=[]\n",
        "  while True:\n",
        "    start=string.find(substring,start)\n",
        "    if start==-1:\n",
        "      break\n",
        "    occurrences.append(start)\n",
        "    start+=1\n",
        "  return occurrences"
      ],
      "metadata": {
        "id": "0lmCR5-siSQX"
      },
      "execution_count": null,
      "outputs": []
    },
    {
      "cell_type": "code",
      "source": [
        "#6)write a code to perform basic string compression using the counts of repeated characters\n",
        " def compress_string(s):\n",
        "  if not s:\n",
        "    return\"\"\n",
        "    compressed=\"\"\n",
        "  count=1\n",
        "  for i in range(1,len(s)):\n",
        "    if s[i]==s[i-1]:\n",
        "      count+=1\n",
        "    else:\n",
        "      compressed.append(s[i-1]+str(count))\n",
        "      count=1\n",
        "  compressed.append(s[-1]+str(count))\n",
        "  return \"\".join(compressed)"
      ],
      "metadata": {
        "colab": {
          "base_uri": "https://localhost:8080/",
          "height": 106
        },
        "id": "Xsp0J2jocOil",
        "outputId": "39872815-0cfc-4876-f92c-2592adf9ba4c"
      },
      "execution_count": null,
      "outputs": [
        {
          "output_type": "error",
          "ename": "IndentationError",
          "evalue": "unexpected indent (<ipython-input-2-f5542b95c403>, line 2)",
          "traceback": [
            "\u001b[0;36m  File \u001b[0;32m\"<ipython-input-2-f5542b95c403>\"\u001b[0;36m, line \u001b[0;32m2\u001b[0m\n\u001b[0;31m    def compress_string(s):\u001b[0m\n\u001b[0m    ^\u001b[0m\n\u001b[0;31mIndentationError\u001b[0m\u001b[0;31m:\u001b[0m unexpected indent\n"
          ]
        }
      ]
    },
    {
      "cell_type": "code",
      "source": [
        "#7)write a code to determine if a string has all unique characters\n",
        "def has_all_unique_characters(s):\n",
        "  seen=set()\n",
        "  for char in s:\n",
        "    if char in seen:\n",
        "      return False# duplicate character found\n",
        "      seen.add(char)\n",
        "      return True # all character are unique\n",
        "\n"
      ],
      "metadata": {
        "id": "0KOycSESdNsx"
      },
      "execution_count": null,
      "outputs": []
    },
    {
      "cell_type": "code",
      "source": [
        "input_string=\"abcdefg\"\n",
        "if has_all_unique_characters(input_string):\n",
        "  print(f'\"{input_string}\" has all unique characters')\n",
        "else:\n",
        "  print(f'\"{input_string}\" does not have all unique characters.'"
      ],
      "metadata": {
        "colab": {
          "base_uri": "https://localhost:8080/",
          "height": 106
        },
        "id": "roB90Ijseo1I",
        "outputId": "5ca0707e-a30c-4743-cd02-f562a41d45fb"
      },
      "execution_count": null,
      "outputs": [
        {
          "output_type": "error",
          "ename": "SyntaxError",
          "evalue": "incomplete input (<ipython-input-5-b06b58a88bac>, line 5)",
          "traceback": [
            "\u001b[0;36m  File \u001b[0;32m\"<ipython-input-5-b06b58a88bac>\"\u001b[0;36m, line \u001b[0;32m5\u001b[0m\n\u001b[0;31m    print(f'\"{input_string}\" does not have all unique characters.'\u001b[0m\n\u001b[0m                                                                  ^\u001b[0m\n\u001b[0;31mSyntaxError\u001b[0m\u001b[0;31m:\u001b[0m incomplete input\n"
          ]
        }
      ]
    },
    {
      "cell_type": "code",
      "source": [
        "#8)write a code to convert a given string to uppercase or lowe case\n",
        "input_string=\"hello,world!\"\n",
        "uppercase_string=input_string.upper()\n",
        "lowercase_string=input_string.lower()\n",
        "print(uppercase_string)\n",
        "print(lowercase_string)"
      ],
      "metadata": {
        "colab": {
          "base_uri": "https://localhost:8080/"
        },
        "id": "Ge1ayDACe454",
        "outputId": "d20ccd71-5a75-4dee-fcb2-0687291d06d9"
      },
      "execution_count": null,
      "outputs": [
        {
          "output_type": "stream",
          "name": "stdout",
          "text": [
            "HELLO,WORLD!\n",
            "hello,world!\n"
          ]
        }
      ]
    },
    {
      "cell_type": "code",
      "source": [
        "#9)write a code to count numbers number of words in string\n",
        "input_string=\"hello,world!\"\n",
        "word_count=len(input_string.split())\n",
        "print(word_count)"
      ],
      "metadata": {
        "colab": {
          "base_uri": "https://localhost:8080/"
        },
        "id": "SruWEbj1flI-",
        "outputId": "caedc57f-5d7c-4393-bea1-2b67fc211f21"
      },
      "execution_count": null,
      "outputs": [
        {
          "output_type": "stream",
          "name": "stdout",
          "text": [
            "1\n"
          ]
        }
      ]
    },
    {
      "cell_type": "code",
      "source": [
        "#10)write a code to concatenate two strings without using the + operator\n",
        "  # example\n",
        "string1=\"hello\"\n",
        "string2=\"world\"\n",
        "result=concatenate_strings(string1,string2)\n",
        "print(result)"
      ],
      "metadata": {
        "colab": {
          "base_uri": "https://localhost:8080/"
        },
        "id": "ggmvM4z9ipaO",
        "outputId": "8360618f-0d35-4c75-b172-0576cdf4ee35"
      },
      "execution_count": null,
      "outputs": [
        {
          "output_type": "stream",
          "name": "stdout",
          "text": [
            "helloworld\n"
          ]
        }
      ]
    },
    {
      "cell_type": "code",
      "source": [
        "#11)write a code to remove all occurences of a specific elements from a list\n",
        "my_list=[1,2,3,4,2,5,2]\n",
        "element_to_remove=2\n",
        "my_list=[x for x in my_list if x!=element_to_remove]\n",
        "print(my_list)\n"
      ],
      "metadata": {
        "colab": {
          "base_uri": "https://localhost:8080/"
        },
        "id": "Qs--J2xIjbje",
        "outputId": "de496183-c323-4960-ad97-750ee80f803c"
      },
      "execution_count": null,
      "outputs": [
        {
          "output_type": "stream",
          "name": "stdout",
          "text": [
            "[1, 3, 4, 5]\n"
          ]
        }
      ]
    },
    {
      "cell_type": "code",
      "source": [
        "#12)implement a code to find the second largest number in a given list of integers\n",
        "def second_largest(input_list)\n",
        "unique_numbers=list(set(input_list))\n",
        "unique_numbers.sort()\n",
        "#check if there are at least two unique numbers\n",
        "if len(unique_numbers)<2:\n",
        "  return none\n",
        "  return unique_numbers[-2]"
      ],
      "metadata": {
        "colab": {
          "base_uri": "https://localhost:8080/",
          "height": 106
        },
        "id": "qzIjKtAMk9_A",
        "outputId": "24a2e475-785d-4890-bf9b-a59caa6e8365"
      },
      "execution_count": null,
      "outputs": [
        {
          "output_type": "error",
          "ename": "SyntaxError",
          "evalue": "expected ':' (<ipython-input-15-f2c88a3c5501>, line 2)",
          "traceback": [
            "\u001b[0;36m  File \u001b[0;32m\"<ipython-input-15-f2c88a3c5501>\"\u001b[0;36m, line \u001b[0;32m2\u001b[0m\n\u001b[0;31m    def second_largest(input_list)\u001b[0m\n\u001b[0m                                  ^\u001b[0m\n\u001b[0;31mSyntaxError\u001b[0m\u001b[0;31m:\u001b[0m expected ':'\n"
          ]
        }
      ]
    },
    {
      "cell_type": "code",
      "source": [
        "#example usage\n",
        "numbers=[3,1,4,4,2,5]\n",
        "result=second_largest(numbers)\n",
        "print(result)"
      ],
      "metadata": {
        "colab": {
          "base_uri": "https://localhost:8080/",
          "height": 193
        },
        "id": "qSXVbSb10I75",
        "outputId": "ae894ca3-06ab-4134-c9eb-7dd04d3b8ec6"
      },
      "execution_count": null,
      "outputs": [
        {
          "output_type": "error",
          "ename": "NameError",
          "evalue": "name 'second_largest' is not defined",
          "traceback": [
            "\u001b[0;31m---------------------------------------------------------------------------\u001b[0m",
            "\u001b[0;31mNameError\u001b[0m                                 Traceback (most recent call last)",
            "\u001b[0;32m<ipython-input-18-272a9673bd8f>\u001b[0m in \u001b[0;36m<cell line: 3>\u001b[0;34m()\u001b[0m\n\u001b[1;32m      1\u001b[0m \u001b[0;31m#example usage\u001b[0m\u001b[0;34m\u001b[0m\u001b[0;34m\u001b[0m\u001b[0m\n\u001b[1;32m      2\u001b[0m \u001b[0mnumbers\u001b[0m\u001b[0;34m=\u001b[0m\u001b[0;34m[\u001b[0m\u001b[0;36m3\u001b[0m\u001b[0;34m,\u001b[0m\u001b[0;36m1\u001b[0m\u001b[0;34m,\u001b[0m\u001b[0;36m4\u001b[0m\u001b[0;34m,\u001b[0m\u001b[0;36m4\u001b[0m\u001b[0;34m,\u001b[0m\u001b[0;36m2\u001b[0m\u001b[0;34m,\u001b[0m\u001b[0;36m5\u001b[0m\u001b[0;34m]\u001b[0m\u001b[0;34m\u001b[0m\u001b[0;34m\u001b[0m\u001b[0m\n\u001b[0;32m----> 3\u001b[0;31m \u001b[0mresult\u001b[0m\u001b[0;34m=\u001b[0m\u001b[0msecond_largest\u001b[0m\u001b[0;34m(\u001b[0m\u001b[0mnumbers\u001b[0m\u001b[0;34m)\u001b[0m\u001b[0;34m\u001b[0m\u001b[0;34m\u001b[0m\u001b[0m\n\u001b[0m\u001b[1;32m      4\u001b[0m \u001b[0mprint\u001b[0m\u001b[0;34m(\u001b[0m\u001b[0mresult\u001b[0m\u001b[0;34m)\u001b[0m\u001b[0;34m\u001b[0m\u001b[0;34m\u001b[0m\u001b[0m\n",
            "\u001b[0;31mNameError\u001b[0m: name 'second_largest' is not defined"
          ]
        }
      ]
    },
    {
      "cell_type": "code",
      "source": [
        "#13)create a code........\n",
        "#using loop\n",
        "def count_occurences(input_list):\n",
        "  count_dict={}\n",
        "\n",
        "  for item in input_list:\n",
        "    if item in count_dict:\n",
        "      count_dict[item]+=1\n",
        "    else:\n",
        "      count_dict[item]=1\n",
        "      return count_dict"
      ],
      "metadata": {
        "id": "9uhXJiAG0Vxu"
      },
      "execution_count": null,
      "outputs": []
    },
    {
      "cell_type": "code",
      "source": [
        "#examples\n",
        "my_list=[1,2,3,2,4,1,5]\n",
        "result=count_occurences(my_list)\n",
        "print(result)"
      ],
      "metadata": {
        "colab": {
          "base_uri": "https://localhost:8080/"
        },
        "id": "MhqJf7721raK",
        "outputId": "fd1452e2-8250-4d1c-a086-3194bd2d7026"
      },
      "execution_count": null,
      "outputs": [
        {
          "output_type": "stream",
          "name": "stdout",
          "text": [
            "{1: 1}\n"
          ]
        }
      ]
    },
    {
      "cell_type": "code",
      "source": [
        "#14)write a code to reverse a list in-place withount using any built-in reverse function\n",
        "def reverse_list(input_list):\n",
        "  left=0\n",
        "  right=len(input_list)-1\n",
        "\n",
        "  while left<right:\n",
        "    input_list[left],input_list[right]=input_list[right],input_list[left]\n",
        "    left+=1\n",
        "    right-=1\n",
        "\n"
      ],
      "metadata": {
        "id": "hrLQL-Xe1wdU"
      },
      "execution_count": null,
      "outputs": []
    },
    {
      "cell_type": "code",
      "source": [
        "#example\n",
        "my_list=[1,2,3,4,5]\n",
        "reverse_list(my_list)\n",
        "print(my_list)"
      ],
      "metadata": {
        "colab": {
          "base_uri": "https://localhost:8080/"
        },
        "id": "k2HEop1j2kvY",
        "outputId": "68631d74-628a-4663-aeb4-ef9f54fdf738"
      },
      "execution_count": null,
      "outputs": [
        {
          "output_type": "stream",
          "name": "stdout",
          "text": [
            "[5, 4, 3, 2, 1]\n"
          ]
        }
      ]
    },
    {
      "cell_type": "code",
      "source": [
        "#15)implement a code to find and remove duplicates from a list while preserving the original order of element\n",
        "def remove_duplicates(input_list):\n",
        "  seen=set()\n",
        "  result=[]\n",
        "\n",
        "  for item in input_list:\n",
        "    if item not in seen:\n",
        "      seen.add(item)\n",
        "      result.append(item)\n",
        "      result.append(item)\n",
        "\n",
        "      return result\n"
      ],
      "metadata": {
        "id": "oSPlhytP2qC7"
      },
      "execution_count": null,
      "outputs": []
    },
    {
      "cell_type": "code",
      "source": [
        "#examples\n",
        "my_list=[1,2,3,2,4,3,5,1]\n",
        "result=remove_duplicates(my_list)\n",
        "print(result)"
      ],
      "metadata": {
        "colab": {
          "base_uri": "https://localhost:8080/"
        },
        "id": "q5-eGQFq3yym",
        "outputId": "4763c756-2640-4272-87aa-d41fb8aec8b3"
      },
      "execution_count": null,
      "outputs": [
        {
          "output_type": "stream",
          "name": "stdout",
          "text": [
            "[1, 1]\n"
          ]
        }
      ]
    },
    {
      "cell_type": "code",
      "source": [
        "#16)create a code to check if a given list is sorted list(either in ascending or descending order) or not\n",
        "def is_sorted(input_list):\n",
        "  if not input_list:\n",
        "    return True\n",
        "\n",
        "    ascending=all(input_list[i]<=input_list[i+1]for i in range(len(input_list)-1))\n",
        "    descending=all(input_list[i]>=input_list[i+1]for i in range(len(input_list)-1))\n",
        "\n",
        "    return ascending or descending\n"
      ],
      "metadata": {
        "id": "E79cDSHn32ZP"
      },
      "execution_count": null,
      "outputs": []
    },
    {
      "cell_type": "code",
      "source": [
        "#examples usage\n",
        "list1=[1,2,3,4,5]\n",
        "list2=[5,4,3,2,1]\n",
        "list3=[1,3,2,4,5]\n",
        "list4=[]\n",
        "\n",
        "print(is_sorted(list1))\n",
        "print(is_sorted(list2))\n",
        "print(is_sorted(list3))\n",
        "print(is_sorted(list4))"
      ],
      "metadata": {
        "colab": {
          "base_uri": "https://localhost:8080/"
        },
        "id": "A5dY3M8h6Fx_",
        "outputId": "9ca13a43-f9d3-4567-8d17-ffab33138565"
      },
      "execution_count": null,
      "outputs": [
        {
          "output_type": "stream",
          "name": "stdout",
          "text": [
            "None\n",
            "None\n",
            "None\n",
            "True\n"
          ]
        }
      ]
    },
    {
      "cell_type": "code",
      "source": [
        "#17)write a code to merge two sorted lists into a single sorted list\n",
        "def merge_sorted_lists(list1,list2):\n",
        "  merged_list=[]\n",
        "  i,j=0,0\n",
        "  #compare elements from both list and merge them\n",
        "  while i<len(list1)andj<len(list2):\n",
        "    if list[i]<=list2[j]:\n",
        "      merged_list.append(list1[i])\n",
        "      i+=1\n",
        "    else:\n",
        "      merged_list.append(list2[j])\n",
        "      j+=1\n",
        "\n",
        "      while i<len(list1):\n",
        "        merged_list.appens(list2[j])\n",
        "        j+=1\n",
        "        return merged_list\n",
        "        #example usage\n",
        "        list1=[1,3,5,7]\n",
        "        list2=[2,4,6,8]\n",
        "        result=merge_sorted_lists(list1,list2)\n",
        "        print(result)"
      ],
      "metadata": {
        "colab": {
          "base_uri": "https://localhost:8080/",
          "height": 106
        },
        "id": "Aq5RrtCD6VFT",
        "outputId": "7e280806-5297-49ac-96f0-4be8e664e6f1"
      },
      "execution_count": null,
      "outputs": [
        {
          "output_type": "error",
          "ename": "SyntaxError",
          "evalue": "invalid syntax (<ipython-input-33-dfc3b7565a93>, line 6)",
          "traceback": [
            "\u001b[0;36m  File \u001b[0;32m\"<ipython-input-33-dfc3b7565a93>\"\u001b[0;36m, line \u001b[0;32m6\u001b[0m\n\u001b[0;31m    while i<len(list1)andj<len(list2):\u001b[0m\n\u001b[0m                      ^\u001b[0m\n\u001b[0;31mSyntaxError\u001b[0m\u001b[0;31m:\u001b[0m invalid syntax\n"
          ]
        }
      ]
    },
    {
      "cell_type": "code",
      "source": [
        "#18)implement a code to find the intersection of two given list\n",
        "def intersection(list1,list2):\n",
        "  set1=set(list1)\n",
        "  set2=set(list2)\n",
        "  common_elements=set1.intersection(set2)\n",
        "  return list(common_elements)\n"
      ],
      "metadata": {
        "id": "8GUTVF5477j1"
      },
      "execution_count": null,
      "outputs": []
    },
    {
      "cell_type": "code",
      "source": [
        "#example usage\n",
        "list1=[1,2,3,4,5]\n",
        "list2=[4,5,6,7,8]\n",
        "result=intersection(list1,list2)\n",
        "print(result)"
      ],
      "metadata": {
        "colab": {
          "base_uri": "https://localhost:8080/"
        },
        "id": "WIHllrwr-waN",
        "outputId": "467588e2-11c0-4b86-a35e-c2a094117af8"
      },
      "execution_count": null,
      "outputs": [
        {
          "output_type": "stream",
          "name": "stdout",
          "text": [
            "[4, 5]\n"
          ]
        }
      ]
    },
    {
      "cell_type": "code",
      "source": [
        "#19)create a code to find the union of two lists without duplicate\n",
        "def union(list1,list2):\n",
        "  combined_set=set(list1)|set(list2)\n",
        "  return list(combined_set)\n",
        "#example usage\n",
        "list1=[1,2,3,4,5]\n",
        "list2=[4,5,6,7,8]\n",
        "result=union(list1,list2)\n",
        "print(result)\n"
      ],
      "metadata": {
        "id": "rmAM5puw_Fb4",
        "colab": {
          "base_uri": "https://localhost:8080/"
        },
        "outputId": "dc0920c9-e379-4595-f46c-9e005f8406b4"
      },
      "execution_count": null,
      "outputs": [
        {
          "output_type": "stream",
          "name": "stdout",
          "text": [
            "[1, 2, 3, 4, 5, 6, 7, 8]\n"
          ]
        }
      ]
    },
    {
      "cell_type": "code",
      "source": [
        "#20)write a code to shuffle a given  list randomly without using built-in shuffle function\n",
        "def shuffle_list(input_list):\n",
        "  shuffled_list=input_list[:]\n",
        "  for i in range (len(shuffled_list)-1,0,-1):\n",
        "    j=random.randint(0,i)\n",
        "    shuffled_list[i],shuffled_list[j]=shuffled_list[j],shuffled_list[i]\n",
        "    return shuffled_list\n"
      ],
      "metadata": {
        "id": "EWGePBd0DMYa"
      },
      "execution_count": null,
      "outputs": []
    },
    {
      "cell_type": "code",
      "source": [
        "#21)write a code that takes two tuples as input and returns a new tuple containing element that are common to both input tuples\n",
        "def common_elements(tuple1,tuple2):\n",
        "  common_set=set(tuple1)&set(tuple2)\n",
        "  return tuple(common_set)\n",
        "  #example\n",
        "   tuple1=(1,2,3,4,5)\n",
        "   tuple2=(4,5,6,7,8)\n",
        "   result=common_elements(tuple1,tuple2)\n",
        "   print(result)"
      ],
      "metadata": {
        "colab": {
          "base_uri": "https://localhost:8080/",
          "height": 106
        },
        "id": "z3cu3HR-FZw2",
        "outputId": "dee4e491-fa68-4934-f165-49a565bda830"
      },
      "execution_count": null,
      "outputs": [
        {
          "output_type": "error",
          "ename": "IndentationError",
          "evalue": "unexpected indent (<ipython-input-42-8316a56cddb6>, line 6)",
          "traceback": [
            "\u001b[0;36m  File \u001b[0;32m\"<ipython-input-42-8316a56cddb6>\"\u001b[0;36m, line \u001b[0;32m6\u001b[0m\n\u001b[0;31m    tuple1=(1,2,3,4,5)\u001b[0m\n\u001b[0m    ^\u001b[0m\n\u001b[0;31mIndentationError\u001b[0m\u001b[0;31m:\u001b[0m unexpected indent\n"
          ]
        }
      ]
    },
    {
      "cell_type": "code",
      "source": [
        "#22)create a code that prompts the user to enter two sets of integers separated by commas then print the intersection of these two sets\n",
        "#function to get integer sets from user input\n",
        "def get_integer_set(prompt):\n",
        "  user_input=input(prompt)\n",
        "  return set(map(int,user_input.split(',')))\n",
        "#get two sets from the user\n",
        "set1=get_integer_set(\"Enter the first set of integers separated by commas:\")\n",
        "set2=get_integer_set(\"Enter the second set of integers separated by commas:\")\n",
        "#calculate the intersection\n",
        "intersection=set1.intersection(set2)\n",
        "#print the intersection\n",
        "print(\"Intersection of the two sets:\",intersection)\n"
      ],
      "metadata": {
        "id": "-81qnfddHhCg",
        "colab": {
          "base_uri": "https://localhost:8080/"
        },
        "outputId": "8878807f-b7b5-4be0-f773-014b27c57b43"
      },
      "execution_count": null,
      "outputs": [
        {
          "output_type": "stream",
          "name": "stdout",
          "text": [
            "Enter the first set of integers separated by commas:1,2,3\n",
            "Enter the second set of integers separated by commas:4,5,8\n",
            "Intersection of the two sets: set()\n"
          ]
        }
      ]
    },
    {
      "cell_type": "code",
      "source": [
        "#23)write a code to concatenate two tuples the functions should take two tuples as input and return a new tuple containing elements from both input tuples\n",
        "def concatenate_tuples(tuple1,tuple2):\n",
        "  \"\"\"\n",
        "  concatenate two tuples and return a new tuple\n",
        "\n",
        "  parameters:\n",
        "  tuple1(tuple):the first tuple.\n",
        "  tuple2(tuple):the second tuple.\n",
        "\n",
        "  returns:\n",
        "  tuple:A new tuple containing elements from both input tuples.\n",
        "  \"\"\"\n",
        "  return tuple1+tuple2\n",
        " #example\n",
        " tuple_a=(1,2,3)\n",
        " tuple_b=(4,5,6,7)\n",
        "\n",
        "\n",
        " result=concatenate_tuples(tuple_a,tuple_b)\n",
        " print(result)"
      ],
      "metadata": {
        "id": "e6OrIxxZD-xs",
        "colab": {
          "base_uri": "https://localhost:8080/",
          "height": 106
        },
        "outputId": "53b7f608-0f17-4956-9f89-43d931de5e78"
      },
      "execution_count": null,
      "outputs": [
        {
          "output_type": "error",
          "ename": "IndentationError",
          "evalue": "unindent does not match any outer indentation level (<tokenize>, line 15)",
          "traceback": [
            "\u001b[0;36m  File \u001b[0;32m\"<tokenize>\"\u001b[0;36m, line \u001b[0;32m15\u001b[0m\n\u001b[0;31m    tuple_a=(1,2,3)\u001b[0m\n\u001b[0m    ^\u001b[0m\n\u001b[0;31mIndentationError\u001b[0m\u001b[0;31m:\u001b[0m unindent does not match any outer indentation level\n"
          ]
        }
      ]
    },
    {
      "cell_type": "code",
      "source": [
        "#24) develop a code that prompts the user to input two sets of strings then print the elements that are present in the first set but not in the second set\n",
        "#function to get a set of strings\n",
        "def get_input_set(prompt):\n",
        "  return set(input(prompt).split())\n",
        "#get two sets from user input\n",
        "set1=get_input_set(\"Enter the first set of strings separated by commas:\")\n",
        "set2=get_input_set(\"Enter the second set of strings separated by commas:\")\n",
        "#find the elements in set1 but not in set2\n",
        "difference=set1-set2\n",
        "#print the difference\n",
        "print(\"Elements in set1 but not in set2:\",difference)"
      ],
      "metadata": {
        "colab": {
          "base_uri": "https://localhost:8080/"
        },
        "id": "KNQEhGbMbpdN",
        "outputId": "4ed02a7f-7cec-4623-ca1d-0651307118fc"
      },
      "execution_count": null,
      "outputs": [
        {
          "output_type": "stream",
          "name": "stdout",
          "text": [
            "Enter the first set of strings separated by commas:1,5,6\n",
            "Enter the second set of strings separated by commas:5,9,10\n",
            "Elements in set1 but not in set2: {'1,5,6'}\n"
          ]
        }
      ]
    },
    {
      "cell_type": "code",
      "source": [
        "#25)create a code that takes a tuple and two integers as input the function should return a new tuple containing elements from the original tuple within the specific range of indices\n",
        "def slice_tuple(original_tuple,start_index,end_index):\n",
        "  #validate the indices\n",
        "  if start_index<0 or end_index>=len(original_tuple)or start_index>end_index:\n",
        "    #return a new tuple\n",
        "    return original_tuple[start_index:end_index]\n",
        "#example usage\n",
        "my_tuple=(1,2,3,4,5)\n",
        "start=1\n",
        "end=4\n",
        "result=slice_tuple(my_tuple,start,end)\n",
        "print(result)\n"
      ],
      "metadata": {
        "id": "JXDQuw9degNt",
        "colab": {
          "base_uri": "https://localhost:8080/",
          "height": 0
        },
        "outputId": "2dedca9a-bd38-4337-b50a-af0127050dda"
      },
      "execution_count": 2,
      "outputs": [
        {
          "output_type": "stream",
          "name": "stdout",
          "text": [
            "None\n"
          ]
        }
      ]
    },
    {
      "cell_type": "code",
      "source": [
        "#26)write a code that prompts the user to input two sets of character then print the union of these two sets\n",
        "def main():\n",
        "  #prompt user for first set of characters\n",
        "  set1_input=input(\"enter the first set of characters (without spaces):\")\n",
        "  set1=set(set1_input)\n",
        "  set2_input=input(\"enter the second set of characters (without spaces):\")\n",
        "  set2=set(set2_input)\n",
        "  union_set=set1.union(set2)\n",
        "  print(\"the union of the two sets is:\",''.join(union_set))\n",
        "  if __name__==\"__main__\":\n",
        "    main()"
      ],
      "metadata": {
        "id": "BBoQzueK7DlW"
      },
      "execution_count": 7,
      "outputs": []
    },
    {
      "cell_type": "code",
      "source": [
        "#27)develop a code that takes a tuple of integers as input. the function should return the maximum and minimum values from the tuple using ntuple unpacking\n",
        "def find_max_min(input_tuple):\n",
        "  if not input_tuple:\n",
        "    raise valueerror(\"the input tuple cannot be empty\")\n",
        "    max_value=max(input_tuple)\n",
        "    min_value=min(input_tuple)\n",
        "    return max_value,min_value\n",
        "    #example usage\n",
        "my_tuple=(1,2,3,4,5)\n",
        "max_value,min_value=find_max_min(my_tuple)\n",
        "print(\"maximum value:\",max_value)\n",
        "print(\"minimum value:\",min_value)\n"
      ],
      "metadata": {
        "id": "hTrsd1pz-K4u"
      },
      "execution_count": 15,
      "outputs": []
    },
    {
      "cell_type": "code",
      "source": [
        "#28)create a code that defines two sets of integers then print the union intersection and difference of these two sets\n",
        "def main():\n",
        "  set_a={1,2,3,4,5}\n",
        "  set_b={4,5,6,7,8}\n",
        "  #calculate the union\n",
        "  union_set=set_a.union(set_b)\n",
        "  #calculate intersection\n",
        "  intersection_set=set_a.intersection(set_b)\n",
        "  #calculate the difference\n",
        "  difference_set_b_a=set_b.difference(set_a)\n",
        "  print(\"SetA:\",set_a)\n",
        "  print(\"SetB:\",set_b)\n",
        "  print(\"union:\",union_set)\n",
        "  print(\"intersection:\",intersection_set)\n",
        "  print(\"difference (A-B):\",difference_set_a_b)\n",
        "  print(\"difference (B-A):\",difference_set_b_a)\n",
        "  if __name__==\"__main__\":\n",
        "    main()"
      ],
      "metadata": {
        "id": "YEaTqGiG_l8O"
      },
      "execution_count": 17,
      "outputs": []
    },
    {
      "cell_type": "code",
      "source": [
        "#29)write a code that takes a tuple and an element as input the function should return the count of occurrences of the given element in tuple\n",
        "def count_occurrences(input_tuple,element):\n",
        "  #count the occurrences of the element in the tuple\n",
        "  count=input_tuple.count(element)\n",
        "  return count\n",
        "  #example\n",
        "  my_tuple=(1,2,3,2,4,2,5)\n",
        "  element_to_count=2\n",
        "  result=count_occurrences(my_tuple,element_to_count)\n",
        "\n",
        "  print(f\"the element {element_to_count} occurs {result} times in the tuple.\")\n"
      ],
      "metadata": {
        "id": "iqX02IbgDebN"
      },
      "execution_count": 1,
      "outputs": []
    },
    {
      "cell_type": "code",
      "source": [
        "#30)develop a code that prompts the user to input two sets of string then print the symmetric difference of these two sets\n",
        "def main():\n",
        "  #prompt user for the first set of strings\n",
        "  set_input=input(\"enter the first set of strings (comma-separated):\")\n",
        "  set1=set(item.strip()for item in set1_input.split(',') )\n",
        "  #prompt user for the second set of strings\n",
        "  set2_input=input(\"enter the second set of strings (comma-separated):\")\n",
        "  set2=set(item.strip()for item in set2_input.split(','))\n",
        "  #calculate the symmetric difference\n",
        "  symmetric_difference=set1.symmetric_difference(set2)\n",
        "  #print the result\n",
        "  print(\"the symmetric difference of the two set is:\",symmetric_difference)\n",
        "  if __name__==\"__main__\":\n",
        "    main()\n"
      ],
      "metadata": {
        "id": "EXX8NE38nS47"
      },
      "execution_count": 2,
      "outputs": []
    },
    {
      "cell_type": "code",
      "source": [
        "#31)\n",
        "def word_frequencies(word_list):\n",
        "  frequency_dict={}\n",
        "  for word in word_list:\n",
        "    if word in frequency_dict:\n",
        "      frequency_dict[word]+=1\n",
        "      else:\n",
        "        frequecy_dict[word]=1\n",
        "return frequency_dict\n",
        "\n",
        "\n",
        "\n",
        "#example\n",
        "input_words=input(\"enter a list of words (separated by spaces):\").split()\n",
        "result=word_frequencies(input_words)\n",
        "print(\"word frequencies:,\"result)"
      ],
      "metadata": {
        "colab": {
          "base_uri": "https://localhost:8080/",
          "height": 106
        },
        "id": "rTVYjK20IU9T",
        "outputId": "13a1f016-e746-40c3-d3c2-fed7bed64a73"
      },
      "execution_count": 9,
      "outputs": [
        {
          "output_type": "error",
          "ename": "SyntaxError",
          "evalue": "invalid syntax (<ipython-input-9-597b1e440d26>, line 7)",
          "traceback": [
            "\u001b[0;36m  File \u001b[0;32m\"<ipython-input-9-597b1e440d26>\"\u001b[0;36m, line \u001b[0;32m7\u001b[0m\n\u001b[0;31m    else:\u001b[0m\n\u001b[0m    ^\u001b[0m\n\u001b[0;31mSyntaxError\u001b[0m\u001b[0;31m:\u001b[0m invalid syntax\n"
          ]
        }
      ]
    },
    {
      "cell_type": "code",
      "source": [
        "#32)write a code that takes two dictionaries as input and merges them into a single dictionary if there are common keys the values should be added together\n",
        "def merge_dictionaries(dict,dict2):\n",
        "  #create a nbew dictionary to hold the merged result\n",
        "  merged_dict=dict1.copy()\n",
        "  #iterate through the second dictionary\n",
        "  for key,value in dict2.items():\n",
        "    if key in merged_dict:\n",
        "      #if the key exists,add the values\n",
        "      merged_dict[key]+=value\n",
        "\n",
        " #example\n",
        "dict1={'a':1,'b':2,'c':3}\n",
        "dict2={'b':4,'c':5,'d':6}\n",
        "result=merge_dictionaries(dict1,dict2)\n",
        "print(\"merged dictionary:\",result)\n",
        ""
      ],
      "metadata": {
        "colab": {
          "base_uri": "https://localhost:8080/",
          "height": 0
        },
        "id": "3zWFl1zHKd6O",
        "outputId": "d3ab419d-d6fd-432e-8e04-2ec0862e5dab"
      },
      "execution_count": 8,
      "outputs": [
        {
          "output_type": "stream",
          "name": "stdout",
          "text": [
            "merged dictionary: None\n"
          ]
        }
      ]
    },
    {
      "cell_type": "code",
      "source": [
        "#33)write a code to acess a value in a nested dictionary the function should take the dictionary and a list of keys as input and return the corresponding value if any of the keys do not exist in the dictionary the function should return none\n",
        "def acess_nested_dict(nested_dict,keys):\n",
        "  current_value=nested_dict\n",
        "  for key in keys:\n",
        "    if key in current_value:\n",
        "      current_value=current_value[key]\n",
        "      else:\n",
        "        return None\n",
        "        return current_value\n",
        "#example\n",
        "nested_dect={'a':{'b':1},'c':{'d':2}}\n",
        "keys=['a','b']\n",
        "result=acess_nested_dict(nested_dict,keys)\n",
        "print(result\n"
      ],
      "metadata": {
        "colab": {
          "base_uri": "https://localhost:8080/",
          "height": 106
        },
        "id": "J-YnYA-DI0Hn",
        "outputId": "e76dc0b9-9835-498f-b46b-7ae75fbe398e"
      },
      "execution_count": 11,
      "outputs": [
        {
          "output_type": "error",
          "ename": "SyntaxError",
          "evalue": "invalid syntax (<ipython-input-11-1599d00087e2>, line 7)",
          "traceback": [
            "\u001b[0;36m  File \u001b[0;32m\"<ipython-input-11-1599d00087e2>\"\u001b[0;36m, line \u001b[0;32m7\u001b[0m\n\u001b[0;31m    else:\u001b[0m\n\u001b[0m    ^\u001b[0m\n\u001b[0;31mSyntaxError\u001b[0m\u001b[0;31m:\u001b[0m invalid syntax\n"
          ]
        }
      ]
    },
    {
      "cell_type": "code",
      "source": [
        "#34)write a code that takes a dictionary as input and returns a sorted version of it based on the values you can choose whether to sort in ascending or descending order\n",
        "def sort_dictionary_by_value(input_dict,ascending=True):\n",
        "  sorted_dict=dict(sorted(input_dict.items(),key=lambda item:item[1],reverse=not ascending))\n",
        "  return sorted_dict\n",
        "#example\n",
        "input_dictionary={'apple':5,'banana':2,'orange':8,'grape':3}\n",
        "#sort in ascending order\n",
        "sorted_ascending=sort_dictionary_by_value(input_dictionary,ascending=True)\n",
        "print(\"sorted dictionary (ascending):\",sorted_ascending)\n",
        "#sort in descending order\n",
        "sorted_descending=sort_dictionary_by_value(input_dictionary,ascending=False)\n",
        "print(\"sorted dictionary (descending):\",sorted_descending)"
      ],
      "metadata": {
        "colab": {
          "base_uri": "https://localhost:8080/",
          "height": 0
        },
        "id": "Jm9gsJaJIeNH",
        "outputId": "e8f0c9a3-0e5c-478f-977e-97a681192db8"
      },
      "execution_count": 12,
      "outputs": [
        {
          "output_type": "stream",
          "name": "stdout",
          "text": [
            "sorted dictionary (ascending): {'banana': 2, 'grape': 3, 'apple': 5, 'orange': 8}\n",
            "sorted dictionary (descending): {'orange': 8, 'apple': 5, 'grape': 3, 'banana': 2}\n"
          ]
        }
      ]
    },
    {
      "cell_type": "code",
      "source": [
        "#35)write a code that inverts a dictionary swapping keys and values ensure that the inverted dictionary correctly handles cases where multiple keys have the same value by storing the keys as a list in the inverted dictionary\n",
        "def invert_dictionary(input_dict):\n",
        "  inverted_dict={}\n",
        "\n",
        "  for key,value in input_dict.items():\n",
        "    if value in inverted_dict:\n",
        "      inverted_dict[value].append(key)\n",
        "    else:\n",
        "      inverted_dict[value]=[key]\n",
        "      return inverted_dict"
      ],
      "metadata": {
        "id": "OleUAvCyNTr_"
      },
      "execution_count": 15,
      "outputs": []
    },
    {
      "cell_type": "code",
      "source": [
        "#example\n",
        "original_dictionary={'a':1,'b':2,'c':1,'d':3}\n",
        "inverted_dictionary=invert_dictionary(original_dictionary)\n",
        "print(\"inverted dictionary:\",inverted_dictionary)"
      ],
      "metadata": {
        "id": "c54SPbtiOiQX"
      },
      "execution_count": 18,
      "outputs": []
    },
    {
      "cell_type": "code",
      "source": [],
      "metadata": {
        "id": "YZFqsF06Oze4"
      },
      "execution_count": null,
      "outputs": []
    }
  ]
}